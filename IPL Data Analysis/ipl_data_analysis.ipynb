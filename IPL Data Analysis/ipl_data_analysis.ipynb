{
 "cells": [
  {
   "cell_type": "code",
   "execution_count": 9,
   "metadata": {},
   "outputs": [],
   "source": [
    "# Analyse des données de la Premier League indienne (IPL) 2023"
   ]
  },
  {
   "cell_type": "markdown",
   "metadata": {},
   "source": [
    "# Analyse des données de la Premier League indienne (IPL) 2023"
   ]
  },
  {
   "cell_type": "code",
   "execution_count": 10,
   "metadata": {},
   "outputs": [],
   "source": [
    "import pandas as pd"
   ]
  },
  {
   "cell_type": "code",
   "execution_count": 11,
   "metadata": {},
   "outputs": [
    {
     "data": {
      "text/html": [
       "<div>\n",
       "<style scoped>\n",
       "    .dataframe tbody tr th:only-of-type {\n",
       "        vertical-align: middle;\n",
       "    }\n",
       "\n",
       "    .dataframe tbody tr th {\n",
       "        vertical-align: top;\n",
       "    }\n",
       "\n",
       "    .dataframe thead th {\n",
       "        text-align: right;\n",
       "    }\n",
       "</style>\n",
       "<table border=\"1\" class=\"dataframe\">\n",
       "  <thead>\n",
       "    <tr style=\"text-align: right;\">\n",
       "      <th></th>\n",
       "      <th>Player</th>\n",
       "      <th>Role</th>\n",
       "      <th>Amount</th>\n",
       "      <th>Team</th>\n",
       "      <th>Year</th>\n",
       "      <th>Player Origin</th>\n",
       "    </tr>\n",
       "  </thead>\n",
       "  <tbody>\n",
       "    <tr>\n",
       "      <th>0</th>\n",
       "      <td>Aaron Finch</td>\n",
       "      <td>Batsman</td>\n",
       "      <td>40000000</td>\n",
       "      <td>Sunrisers Hyderabad</td>\n",
       "      <td>2014.0</td>\n",
       "      <td>Overseas</td>\n",
       "    </tr>\n",
       "    <tr>\n",
       "      <th>1</th>\n",
       "      <td>Aaron Finch</td>\n",
       "      <td>Batsman</td>\n",
       "      <td>32000000</td>\n",
       "      <td>Mumbai Indians</td>\n",
       "      <td>2015.0</td>\n",
       "      <td>Overseas</td>\n",
       "    </tr>\n",
       "    <tr>\n",
       "      <th>2</th>\n",
       "      <td>Aaron Finch</td>\n",
       "      <td>Batsman</td>\n",
       "      <td>10000000</td>\n",
       "      <td>Gujarat Lions</td>\n",
       "      <td>2016.0</td>\n",
       "      <td>Overseas</td>\n",
       "    </tr>\n",
       "    <tr>\n",
       "      <th>3</th>\n",
       "      <td>Aaron Finch</td>\n",
       "      <td>Batsman</td>\n",
       "      <td>62000000</td>\n",
       "      <td>Kings XI Punjab</td>\n",
       "      <td>2018.0</td>\n",
       "      <td>Overseas</td>\n",
       "    </tr>\n",
       "    <tr>\n",
       "      <th>4</th>\n",
       "      <td>Aaron Finch</td>\n",
       "      <td>Batsman</td>\n",
       "      <td>44000000</td>\n",
       "      <td>Royal Challengers Bangalore</td>\n",
       "      <td>2020.0</td>\n",
       "      <td>Overseas</td>\n",
       "    </tr>\n",
       "  </tbody>\n",
       "</table>\n",
       "</div>"
      ],
      "text/plain": [
       "        Player     Role    Amount                         Team    Year  \\\n",
       "0  Aaron Finch  Batsman  40000000          Sunrisers Hyderabad  2014.0   \n",
       "1  Aaron Finch  Batsman  32000000               Mumbai Indians  2015.0   \n",
       "2  Aaron Finch  Batsman  10000000                Gujarat Lions  2016.0   \n",
       "3  Aaron Finch  Batsman  62000000              Kings XI Punjab  2018.0   \n",
       "4  Aaron Finch  Batsman  44000000  Royal Challengers Bangalore  2020.0   \n",
       "\n",
       "  Player Origin  \n",
       "0      Overseas  \n",
       "1      Overseas  \n",
       "2      Overseas  \n",
       "3      Overseas  \n",
       "4      Overseas  "
      ]
     },
     "execution_count": 11,
     "metadata": {},
     "output_type": "execute_result"
    }
   ],
   "source": [
    "data = pd.read_csv(\"../dataset/IPLPlayerAuctionData.csv\")\n",
    "data.head()"
   ]
  },
  {
   "cell_type": "markdown",
   "metadata": {},
   "source": [
    "1. Player : Nom de joueur\n",
    "2. Role : Type de joueur\n",
    "3. Amount: Montant payé par équipe (en roupies indiennes)\n",
    "4. Team : Équipe \n",
    "5. Year : Année de vente aux enchères\n",
    "6. Player Origin :Joueur indien contre étranger"
   ]
  }
 ],
 "metadata": {
  "kernelspec": {
   "display_name": "datascience",
   "language": "python",
   "name": "python3"
  },
  "language_info": {
   "codemirror_mode": {
    "name": "ipython",
    "version": 3
   },
   "file_extension": ".py",
   "mimetype": "text/x-python",
   "name": "python",
   "nbconvert_exporter": "python",
   "pygments_lexer": "ipython3",
   "version": "3.10.13"
  },
  "orig_nbformat": 4
 },
 "nbformat": 4,
 "nbformat_minor": 2
}
